{
 "cells": [
  {
   "cell_type": "code",
   "execution_count": 1,
   "id": "e59ec607",
   "metadata": {},
   "outputs": [
    {
     "name": "stdout",
     "output_type": "stream",
     "text": [
      "Random Array:\n",
      "[[0.66609956 0.47663432 0.23659522 0.87911337 0.01494277 0.00723408\n",
      "  0.65291345 0.4786504  0.93820147 0.40222676]\n",
      " [0.66605264 0.72615249 0.92169999 0.29409138 0.32606267 0.87673782\n",
      "  0.25743516 0.00882035 0.75898243 0.3346127 ]\n",
      " [0.67563315 0.52453386 0.39930123 0.28830308 0.37901708 0.85907299\n",
      "  0.86337324 0.58764739 0.21642322 0.39203344]\n",
      " [0.4106684  0.25540643 0.12310019 0.67981947 0.68710872 0.19919951\n",
      "  0.85695441 0.51960262 0.65063416 0.70256052]\n",
      " [0.08825783 0.40472616 0.05894444 0.6133395  0.09421215 0.93062562\n",
      "  0.05501412 0.00784273 0.53343142 0.18992059]\n",
      " [0.67549699 0.26783813 0.75097831 0.57058436 0.19541542 0.80210231\n",
      "  0.55100266 0.73849759 0.51268106 0.66780081]\n",
      " [0.38763609 0.0265536  0.743552   0.68794783 0.15818982 0.27215261\n",
      "  0.01120181 0.71663037 0.31951685 0.30088116]\n",
      " [0.80690156 0.85631289 0.66626541 0.51011484 0.82961992 0.171329\n",
      "  0.23373782 0.22293366 0.16984186 0.05784779]\n",
      " [0.91648529 0.01708077 0.74215064 0.00587584 0.73262634 0.9155647\n",
      "  0.26823395 0.51918832 0.56540745 0.12014361]\n",
      " [0.290341   0.55096842 0.81175987 0.87071225 0.28020817 0.05796414\n",
      "  0.34078669 0.74391227 0.56709262 0.15770409]]\n",
      "Minimum Value: 0.005875843741164455\n",
      "Maximum Value: 0.9382014707314449\n"
     ]
    }
   ],
   "source": [
    "import numpy as np\n",
    "\n",
    "# Create a 10x10 array with random values between 0 and 1\n",
    "random_array = np.random.rand(10, 10)\n",
    "\n",
    "# Find the minimum and maximum values\n",
    "minimum_value = np.min(random_array)\n",
    "maximum_value = np.max(random_array)\n",
    "\n",
    "print(\"Random Array:\")\n",
    "print(random_array)\n",
    "print(f\"Minimum Value: {minimum_value}\")\n",
    "print(f\"Maximum Value: {maximum_value}\")\n"
   ]
  },
  {
   "cell_type": "code",
   "execution_count": null,
   "id": "c0f1750d",
   "metadata": {},
   "outputs": [],
   "source": []
  }
 ],
 "metadata": {
  "kernelspec": {
   "display_name": "Python 3 (ipykernel)",
   "language": "python",
   "name": "python3"
  },
  "language_info": {
   "codemirror_mode": {
    "name": "ipython",
    "version": 3
   },
   "file_extension": ".py",
   "mimetype": "text/x-python",
   "name": "python",
   "nbconvert_exporter": "python",
   "pygments_lexer": "ipython3",
   "version": "3.11.4"
  }
 },
 "nbformat": 4,
 "nbformat_minor": 5
}
